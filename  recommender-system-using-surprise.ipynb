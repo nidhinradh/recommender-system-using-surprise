{
 "cells": [
  {
   "cell_type": "markdown",
   "id": "7f97050b",
   "metadata": {},
   "source": [
    "### Build a Simple Recommender System Using Surprise"
   ]
  },
  {
   "cell_type": "markdown",
   "id": "4dc9c021",
   "metadata": {},
   "source": [
    "This is a Jupyter Notebook. When you execute code within the notebook, the results appear beneath the code. To execute a code chunk, place your cursor on the cell and press Shift+Enter.\n",
    "\n",
    "Recommender Systems are used to predict user preferences or we can say that these are systems that help people find things when the manual process of selection is a little bit challenging because of too many choices or alternatives. The best examples are Amazon recommending us the next book to read or Netflix suggesting the next movie to watch.\n",
    "There are three types of recommendation engines.\n",
    "<ul>\n",
    "    <li>Collaborative filtering</li>\n",
    "    <li>Content-based filtering</li>\n",
    "    <li>Hybrid recommender system</li>\n",
    "</ul>\n",
    "Today, I am going to build a recommendation engine using the collaborative filtering technique. \n",
    "Collaborative filtering is the technique of making predictions (filtering) about the interests of a user by collecting preferences or taste information from many users (collaborating).\n",
    "\n",
    "[Surprise](https://github.com/NicolasHug/Surprise) is a Python [scikit](https://www.scipy.org/scikits.html) for building and testing recommender systems that deal with explicit rating data. \n",
    "We will make use of this library for building the collaborative filtering based recommender system."
   ]
  },
  {
   "cell_type": "markdown",
   "id": "587e1801",
   "metadata": {},
   "source": [
    "### Installation"
   ]
  },
  {
   "cell_type": "markdown",
   "id": "d127af01",
   "metadata": {},
   "source": [
    "You can install Surprise on your machine using pip cor conda. You'll also need numpy and a C compiler. The recommended method for windows users is using conda):"
   ]
  },
  {
   "cell_type": "code",
   "execution_count": 1,
   "id": "d6a56f1f",
   "metadata": {},
   "outputs": [
    {
     "name": "stdout",
     "output_type": "stream",
     "text": [
      "Requirement already satisfied: numpy in c:\\users\\nidhin\\appdata\\local\\programs\\python\\python36\\lib\\site-packages (1.19.5)\n",
      "Requirement already satisfied: scikit-surprise in c:\\users\\nidhin\\appdata\\local\\programs\\python\\python36\\lib\\site-packages (1.1.1)\n",
      "Requirement already satisfied: joblib>=0.11 in c:\\users\\nidhin\\appdata\\local\\programs\\python\\python36\\lib\\site-packages (from scikit-surprise) (1.0.1)\n",
      "Requirement already satisfied: numpy>=1.11.2 in c:\\users\\nidhin\\appdata\\local\\programs\\python\\python36\\lib\\site-packages (from scikit-surprise) (1.19.5)\n",
      "Requirement already satisfied: scipy>=1.0.0 in c:\\users\\nidhin\\appdata\\local\\programs\\python\\python36\\lib\\site-packages (from scikit-surprise) (1.5.4)\n",
      "Requirement already satisfied: six>=1.10.0 in c:\\users\\nidhin\\appdata\\local\\programs\\python\\python36\\lib\\site-packages (from scikit-surprise) (1.16.0)\n",
      "Requirement already satisfied: pandas in c:\\users\\nidhin\\appdata\\local\\programs\\python\\python36\\lib\\site-packages (1.1.5)\n",
      "Requirement already satisfied: numpy>=1.15.4 in c:\\users\\nidhin\\appdata\\local\\programs\\python\\python36\\lib\\site-packages (from pandas) (1.19.5)\n",
      "Requirement already satisfied: python-dateutil>=2.7.3 in c:\\users\\nidhin\\appdata\\local\\programs\\python\\python36\\lib\\site-packages (from pandas) (2.8.1)\n",
      "Requirement already satisfied: pytz>=2017.2 in c:\\users\\nidhin\\appdata\\local\\programs\\python\\python36\\lib\\site-packages (from pandas) (2021.1)\n",
      "Requirement already satisfied: six>=1.5 in c:\\users\\nidhin\\appdata\\local\\programs\\python\\python36\\lib\\site-packages (from python-dateutil>=2.7.3->pandas) (1.16.0)\n",
      "Requirement already satisfied: matplotlib in c:\\users\\nidhin\\appdata\\local\\programs\\python\\python36\\lib\\site-packages (3.3.4)\n",
      "Requirement already satisfied: numpy>=1.15 in c:\\users\\nidhin\\appdata\\local\\programs\\python\\python36\\lib\\site-packages (from matplotlib) (1.19.5)\n",
      "Requirement already satisfied: pillow>=6.2.0 in c:\\users\\nidhin\\appdata\\local\\programs\\python\\python36\\lib\\site-packages (from matplotlib) (8.2.0)\n",
      "Requirement already satisfied: pyparsing!=2.0.4,!=2.1.2,!=2.1.6,>=2.0.3 in c:\\users\\nidhin\\appdata\\local\\programs\\python\\python36\\lib\\site-packages (from matplotlib) (2.4.7)\n",
      "Requirement already satisfied: kiwisolver>=1.0.1 in c:\\users\\nidhin\\appdata\\local\\programs\\python\\python36\\lib\\site-packages (from matplotlib) (1.3.1)\n",
      "Requirement already satisfied: python-dateutil>=2.1 in c:\\users\\nidhin\\appdata\\local\\programs\\python\\python36\\lib\\site-packages (from matplotlib) (2.8.1)\n",
      "Requirement already satisfied: cycler>=0.10 in c:\\users\\nidhin\\appdata\\local\\programs\\python\\python36\\lib\\site-packages (from matplotlib) (0.10.0)\n",
      "Requirement already satisfied: six in c:\\users\\nidhin\\appdata\\local\\programs\\python\\python36\\lib\\site-packages (from cycler>=0.10->matplotlib) (1.16.0)\n",
      "Requirement already satisfied: seaborn in c:\\users\\nidhin\\appdata\\local\\programs\\python\\python36\\lib\\site-packages (0.11.1)\n",
      "Requirement already satisfied: numpy>=1.15 in c:\\users\\nidhin\\appdata\\local\\programs\\python\\python36\\lib\\site-packages (from seaborn) (1.19.5)\n",
      "Requirement already satisfied: pandas>=0.23 in c:\\users\\nidhin\\appdata\\local\\programs\\python\\python36\\lib\\site-packages (from seaborn) (1.1.5)\n",
      "Requirement already satisfied: matplotlib>=2.2 in c:\\users\\nidhin\\appdata\\local\\programs\\python\\python36\\lib\\site-packages (from seaborn) (3.3.4)\n",
      "Requirement already satisfied: scipy>=1.0 in c:\\users\\nidhin\\appdata\\local\\programs\\python\\python36\\lib\\site-packages (from seaborn) (1.5.4)\n",
      "Requirement already satisfied: pillow>=6.2.0 in c:\\users\\nidhin\\appdata\\local\\programs\\python\\python36\\lib\\site-packages (from matplotlib>=2.2->seaborn) (8.2.0)\n",
      "Requirement already satisfied: kiwisolver>=1.0.1 in c:\\users\\nidhin\\appdata\\local\\programs\\python\\python36\\lib\\site-packages (from matplotlib>=2.2->seaborn) (1.3.1)\n",
      "Requirement already satisfied: python-dateutil>=2.1 in c:\\users\\nidhin\\appdata\\local\\programs\\python\\python36\\lib\\site-packages (from matplotlib>=2.2->seaborn) (2.8.1)\n",
      "Requirement already satisfied: cycler>=0.10 in c:\\users\\nidhin\\appdata\\local\\programs\\python\\python36\\lib\\site-packages (from matplotlib>=2.2->seaborn) (0.10.0)\n",
      "Requirement already satisfied: pyparsing!=2.0.4,!=2.1.2,!=2.1.6,>=2.0.3 in c:\\users\\nidhin\\appdata\\local\\programs\\python\\python36\\lib\\site-packages (from matplotlib>=2.2->seaborn) (2.4.7)\n",
      "Requirement already satisfied: six in c:\\users\\nidhin\\appdata\\local\\programs\\python\\python36\\lib\\site-packages (from cycler>=0.10->matplotlib>=2.2->seaborn) (1.16.0)\n",
      "Requirement already satisfied: pytz>=2017.2 in c:\\users\\nidhin\\appdata\\local\\programs\\python\\python36\\lib\\site-packages (from pandas>=0.23->seaborn) (2021.1)\n"
     ]
    }
   ],
   "source": [
    "!pip install numpy\n",
    "!pip install scikit-surprise\n",
    "!pip install pandas\n",
    "!pip install matplotlib\n",
    "!pip install seaborn"
   ]
  },
  {
   "cell_type": "markdown",
   "id": "0a5a16e6",
   "metadata": {},
   "source": [
    "With conda"
   ]
  },
  {
   "cell_type": "code",
   "execution_count": 2,
   "id": "5806b9ee",
   "metadata": {},
   "outputs": [],
   "source": [
    "#!conda install -c conda-forge scikit-surprise"
   ]
  },
  {
   "cell_type": "markdown",
   "id": "8b0100c0",
   "metadata": {},
   "source": [
    "### Import Libraries"
   ]
  },
  {
   "cell_type": "code",
   "execution_count": 3,
   "id": "e5b3d378",
   "metadata": {},
   "outputs": [],
   "source": [
    "import numpy as np\n",
    "import pandas as pd\n",
    "import seaborn as sns\n",
    "import matplotlib.pyplot as plt\n",
    "from surprise import Reader, Dataset\n",
    "from surprise.model_selection import train_test_split\n",
    "from surprise import SVD, accuracy"
   ]
  },
  {
   "cell_type": "markdown",
   "id": "c5cd3473",
   "metadata": {},
   "source": [
    "### Load Data"
   ]
  },
  {
   "cell_type": "markdown",
   "id": "dba5c6eb",
   "metadata": {},
   "source": [
    "We are going to use the Amazon's clothing, shoes and jewellery rating dataset from [here](https://jmcauley.ucsd.edu/data/amazon/)"
   ]
  },
  {
   "cell_type": "code",
   "execution_count": 18,
   "id": "b6cd05db",
   "metadata": {},
   "outputs": [
    {
     "data": {
      "text/html": [
       "<div>\n",
       "<style scoped>\n",
       "    .dataframe tbody tr th:only-of-type {\n",
       "        vertical-align: middle;\n",
       "    }\n",
       "\n",
       "    .dataframe tbody tr th {\n",
       "        vertical-align: top;\n",
       "    }\n",
       "\n",
       "    .dataframe thead th {\n",
       "        text-align: right;\n",
       "    }\n",
       "</style>\n",
       "<table border=\"1\" class=\"dataframe\">\n",
       "  <thead>\n",
       "    <tr style=\"text-align: right;\">\n",
       "      <th></th>\n",
       "      <th>reviewerID</th>\n",
       "      <th>asin</th>\n",
       "      <th>overall</th>\n",
       "      <th>unixReviewTime</th>\n",
       "    </tr>\n",
       "  </thead>\n",
       "  <tbody>\n",
       "    <tr>\n",
       "      <th>0</th>\n",
       "      <td>A2XVJBSRI3SWDI</td>\n",
       "      <td>0000031887</td>\n",
       "      <td>5.0</td>\n",
       "      <td>1383523200</td>\n",
       "    </tr>\n",
       "    <tr>\n",
       "      <th>1</th>\n",
       "      <td>A2G0LNLN79Q6HR</td>\n",
       "      <td>0000031887</td>\n",
       "      <td>4.0</td>\n",
       "      <td>1337990400</td>\n",
       "    </tr>\n",
       "    <tr>\n",
       "      <th>2</th>\n",
       "      <td>A2R3K1KX09QBYP</td>\n",
       "      <td>0000031887</td>\n",
       "      <td>2.0</td>\n",
       "      <td>1361059200</td>\n",
       "    </tr>\n",
       "    <tr>\n",
       "      <th>3</th>\n",
       "      <td>A19PBP93OF896</td>\n",
       "      <td>0000031887</td>\n",
       "      <td>1.0</td>\n",
       "      <td>1363824000</td>\n",
       "    </tr>\n",
       "    <tr>\n",
       "      <th>4</th>\n",
       "      <td>A1P0IHU93EF9ZK</td>\n",
       "      <td>0000031887</td>\n",
       "      <td>4.0</td>\n",
       "      <td>1390435200</td>\n",
       "    </tr>\n",
       "  </tbody>\n",
       "</table>\n",
       "</div>"
      ],
      "text/plain": [
       "       reviewerID        asin  overall  unixReviewTime\n",
       "0  A2XVJBSRI3SWDI  0000031887      5.0      1383523200\n",
       "1  A2G0LNLN79Q6HR  0000031887      4.0      1337990400\n",
       "2  A2R3K1KX09QBYP  0000031887      2.0      1361059200\n",
       "3   A19PBP93OF896  0000031887      1.0      1363824000\n",
       "4  A1P0IHU93EF9ZK  0000031887      4.0      1390435200"
      ]
     },
     "execution_count": 18,
     "metadata": {},
     "output_type": "execute_result"
    }
   ],
   "source": [
    "colnames=['reviewerID', 'asin', 'overall', 'unixReviewTime'] \n",
    "data = pd.read_csv('./data/ratings.csv', names=colnames, header=None)\n",
    "data.head()"
   ]
  },
  {
   "cell_type": "markdown",
   "id": "1d8ad55a",
   "metadata": {},
   "source": [
    "As you can see I loaded the data using pandas. We have four columns reviewerID, asin, overall and unixReviewTime.<br/>\n",
    "\n",
    "where\n",
    "<ul>\n",
    "    <li>reviewerID - ID of the reviewer, e.g. A2SUAM1J3GNN3B</li>\n",
    "    <li>asin - ID of the product, e.g. 0000013714</li>\n",
    "    <li>overall - rating of the product</li>\n",
    "    <li>unixReviewTime - time of the review (unix time)</li>\n",
    "</ul>"
   ]
  },
  {
   "cell_type": "markdown",
   "id": "3ab3f7d6",
   "metadata": {},
   "source": [
    "Now we will check the value counts of the column overall."
   ]
  },
  {
   "cell_type": "code",
   "execution_count": 5,
   "id": "89b48fb2",
   "metadata": {},
   "outputs": [
    {
     "data": {
      "text/plain": [
       "5.0    3303450\n",
       "4.0    1120583\n",
       "3.0     574597\n",
       "1.0     396523\n",
       "2.0     353767\n",
       "Name: overall, dtype: int64"
      ]
     },
     "execution_count": 5,
     "metadata": {},
     "output_type": "execute_result"
    }
   ],
   "source": [
    "data.overall.value_counts()"
   ]
  },
  {
   "cell_type": "markdown",
   "id": "f37fc3fa",
   "metadata": {},
   "source": [
    "We can see that the rating of 5.0 has the highest value counts. This means more people rated an item 5.0. It is shown in the plot below."
   ]
  },
  {
   "cell_type": "code",
   "execution_count": 6,
   "id": "d4be5d94",
   "metadata": {},
   "outputs": [
    {
     "data": {
      "image/png": "[encoded data removed]",
      "text/plain": [
       "<Figure size 432x288 with 1 Axes>"
      ]
     },
     "metadata": {
      "needs_background": "light"
     },
     "output_type": "display_data"
    }
   ],
   "source": [
    "data.overall.value_counts().plot(kind='bar')\n",
    "plt.show()"
   ]
  },
  {
   "cell_type": "markdown",
   "id": "9974b9f6",
   "metadata": {},
   "source": [
    "Now we will check for null values in the dataset."
   ]
  },
  {
   "cell_type": "code",
   "execution_count": 7,
   "id": "b7cc00cb",
   "metadata": {},
   "outputs": [
    {
     "name": "stdout",
     "output_type": "stream",
     "text": [
      "<class 'pandas.core.frame.DataFrame'>\n",
      "RangeIndex: 5748920 entries, 0 to 5748919\n",
      "Data columns (total 4 columns):\n",
      " #   Column          Dtype  \n",
      "---  ------          -----  \n",
      " 0   reviewerID      object \n",
      " 1   asin            object \n",
      " 2   overall         float64\n",
      " 3   unixReviewTime  int64  \n",
      "dtypes: float64(1), int64(1), object(2)\n",
      "memory usage: 175.4+ MB\n"
     ]
    }
   ],
   "source": [
    "data.info()"
   ]
  },
  {
   "cell_type": "code",
   "execution_count": 8,
   "id": "9d99dfcb",
   "metadata": {},
   "outputs": [
    {
     "data": {
      "text/plain": [
       "reviewerID        0\n",
       "asin              0\n",
       "overall           0\n",
       "unixReviewTime    0\n",
       "dtype: int64"
      ]
     },
     "execution_count": 8,
     "metadata": {},
     "output_type": "execute_result"
    }
   ],
   "source": [
    "data.isnull().sum()"
   ]
  },
  {
   "cell_type": "markdown",
   "id": "2dc6e4c3",
   "metadata": {},
   "source": [
    "As there are no null values in the dataset we will jump into the next step."
   ]
  },
  {
   "cell_type": "markdown",
   "id": "41b6812f",
   "metadata": {},
   "source": [
    "### Load Data into Surprise"
   ]
  },
  {
   "cell_type": "markdown",
   "id": "a36a20bf",
   "metadata": {},
   "source": [
    "We don't need the timestamp column for this. So we will remove that column from the dataset."
   ]
  },
  {
   "cell_type": "code",
   "execution_count": 9,
   "id": "447c5a3f",
   "metadata": {},
   "outputs": [
    {
     "data": {
      "text/html": [
       "<div>\n",
       "<style scoped>\n",
       "    .dataframe tbody tr th:only-of-type {\n",
       "        vertical-align: middle;\n",
       "    }\n",
       "\n",
       "    .dataframe tbody tr th {\n",
       "        vertical-align: top;\n",
       "    }\n",
       "\n",
       "    .dataframe thead th {\n",
       "        text-align: right;\n",
       "    }\n",
       "</style>\n",
       "<table border=\"1\" class=\"dataframe\">\n",
       "  <thead>\n",
       "    <tr style=\"text-align: right;\">\n",
       "      <th></th>\n",
       "      <th>reviewerID</th>\n",
       "      <th>asin</th>\n",
       "      <th>overall</th>\n",
       "    </tr>\n",
       "  </thead>\n",
       "  <tbody>\n",
       "    <tr>\n",
       "      <th>0</th>\n",
       "      <td>A2XVJBSRI3SWDI</td>\n",
       "      <td>0000031887</td>\n",
       "      <td>5.0</td>\n",
       "    </tr>\n",
       "    <tr>\n",
       "      <th>1</th>\n",
       "      <td>A2G0LNLN79Q6HR</td>\n",
       "      <td>0000031887</td>\n",
       "      <td>4.0</td>\n",
       "    </tr>\n",
       "    <tr>\n",
       "      <th>2</th>\n",
       "      <td>A2R3K1KX09QBYP</td>\n",
       "      <td>0000031887</td>\n",
       "      <td>2.0</td>\n",
       "    </tr>\n",
       "    <tr>\n",
       "      <th>3</th>\n",
       "      <td>A19PBP93OF896</td>\n",
       "      <td>0000031887</td>\n",
       "      <td>1.0</td>\n",
       "    </tr>\n",
       "    <tr>\n",
       "      <th>4</th>\n",
       "      <td>A1P0IHU93EF9ZK</td>\n",
       "      <td>0000031887</td>\n",
       "      <td>4.0</td>\n",
       "    </tr>\n",
       "  </tbody>\n",
       "</table>\n",
       "</div>"
      ],
      "text/plain": [
       "       reviewerID        asin  overall\n",
       "0  A2XVJBSRI3SWDI  0000031887      5.0\n",
       "1  A2G0LNLN79Q6HR  0000031887      4.0\n",
       "2  A2R3K1KX09QBYP  0000031887      2.0\n",
       "3   A19PBP93OF896  0000031887      1.0\n",
       "4  A1P0IHU93EF9ZK  0000031887      4.0"
      ]
     },
     "execution_count": 9,
     "metadata": {},
     "output_type": "execute_result"
    }
   ],
   "source": [
    "data = data[['reviewerID', 'asin', 'overall', 'unixReviewTime']]\n",
    "input_data = data.iloc[:, :-1]\n",
    "input_data.head()"
   ]
  },
  {
   "cell_type": "markdown",
   "id": "fe7751ec",
   "metadata": {},
   "source": [
    "To load the dataset from pandas data frame to Surprise, we will use the load_from_df() method. We will also need a Reader object with the rating_scale the parameter specified as (1,5)."
   ]
  },
  {
   "cell_type": "code",
   "execution_count": 10,
   "id": "4d4f9ac3",
   "metadata": {},
   "outputs": [],
   "source": [
    "reader = Reader(rating_scale=(1,5))\n",
    "input_data = Dataset.load_from_df(input_data[['reviewerID', 'asin', 'overall']], reader)"
   ]
  },
  {
   "cell_type": "markdown",
   "id": "f36c8556",
   "metadata": {},
   "source": [
    "Now we will split the input_data to train and test data in an 80:20 ratio."
   ]
  },
  {
   "cell_type": "code",
   "execution_count": 11,
   "id": "1184f7f6",
   "metadata": {},
   "outputs": [],
   "source": [
    "train_data, test_data = train_test_split(input_data, test_size=0.20)"
   ]
  },
  {
   "cell_type": "markdown",
   "id": "2adc4e98",
   "metadata": {},
   "source": [
    "The most known and widely used matrix decomposition method is the Singular-Value Decomposition or SVD. All matrices have an SVD, which makes SVD more stable than other methods. So we will use this technique for training our model."
   ]
  },
  {
   "cell_type": "code",
   "execution_count": 12,
   "id": "8b1562bc",
   "metadata": {},
   "outputs": [],
   "source": [
    "algo = SVD()\n",
    "predictions = algo.fit(train_data).test(test_data)"
   ]
  },
  {
   "cell_type": "code",
   "execution_count": 13,
   "id": "d75e466e",
   "metadata": {},
   "outputs": [
    {
     "name": "stdout",
     "output_type": "stream",
     "text": [
      "RMSE: 1.1783\n",
      "MAE:  0.9204\n",
      "MSE: 1.3883\n"
     ]
    },
    {
     "data": {
      "text/plain": [
       "1.388289086599863"
      ]
     },
     "execution_count": 13,
     "metadata": {},
     "output_type": "execute_result"
    }
   ],
   "source": [
    "accuracy.rmse(predictions)\n",
    "accuracy.mae(predictions)\n",
    "accuracy.mse(predictions)"
   ]
  },
  {
   "cell_type": "markdown",
   "id": "c8b6a073",
   "metadata": {},
   "source": [
    "To inspect our predictions in details, we are going to build a pandas data frame with all the predictions. The following code is largely taken from this [notebook](https://nbviewer.jupyter.org/github/NicolasHug/Surprise/blob/master/examples/notebooks/KNNBasic_analysis.ipynb)."
   ]
  },
  {
   "cell_type": "code",
   "execution_count": 14,
   "id": "49e09d4d",
   "metadata": {},
   "outputs": [],
   "source": [
    "def get_Iu(uid):\n",
    "    \"\"\" return the number of items rated by given user\n",
    "    args: \n",
    "      uid: the id of the user\n",
    "    returns: \n",
    "      the number of items rated by the user\n",
    "    \"\"\"\n",
    "    try:\n",
    "        return len(train_data.ur[train_data.to_inner_uid(uid)])\n",
    "    except ValueError: # user was not part of the trainset\n",
    "        return 0\n",
    "    \n",
    "def get_Ui(iid):\n",
    "    \"\"\" return number of users that have rated given item\n",
    "    args:\n",
    "      iid: the raw id of the item\n",
    "    returns:\n",
    "      the number of users that have rated the item.\n",
    "    \"\"\"\n",
    "    try: \n",
    "        return len(train_data.ir[train_data.to_inner_iid(iid)])\n",
    "    except ValueError:\n",
    "        return 0\n",
    "    \n",
    "df = pd.DataFrame(predictions, columns=['uid', 'iid', 'rui', 'est', 'details'])\n",
    "df['Iu'] = df.uid.apply(get_Iu)\n",
    "df['Ui'] = df.iid.apply(get_Ui)\n",
    "df['err'] = abs(df.est - df.rui)\n",
    "best_predictions = df.sort_values(by='err')[:1000]\n",
    "worst_predictions = df.sort_values(by='err')[-1000:]"
   ]
  },
  {
   "cell_type": "code",
   "execution_count": 15,
   "id": "0d627e4b",
   "metadata": {},
   "outputs": [
    {
     "data": {
      "text/html": [
       "<div>\n",
       "<style scoped>\n",
       "    .dataframe tbody tr th:only-of-type {\n",
       "        vertical-align: middle;\n",
       "    }\n",
       "\n",
       "    .dataframe tbody tr th {\n",
       "        vertical-align: top;\n",
       "    }\n",
       "\n",
       "    .dataframe thead th {\n",
       "        text-align: right;\n",
       "    }\n",
       "</style>\n",
       "<table border=\"1\" class=\"dataframe\">\n",
       "  <thead>\n",
       "    <tr style=\"text-align: right;\">\n",
       "      <th></th>\n",
       "      <th>uid</th>\n",
       "      <th>iid</th>\n",
       "      <th>rui</th>\n",
       "      <th>est</th>\n",
       "      <th>details</th>\n",
       "      <th>Iu</th>\n",
       "      <th>Ui</th>\n",
       "      <th>err</th>\n",
       "    </tr>\n",
       "  </thead>\n",
       "  <tbody>\n",
       "    <tr>\n",
       "      <th>713588</th>\n",
       "      <td>AV2KELKLP3CI3</td>\n",
       "      <td>B0071QVWGM</td>\n",
       "      <td>5.0</td>\n",
       "      <td>5.0</td>\n",
       "      <td>{'was_impossible': False}</td>\n",
       "      <td>22</td>\n",
       "      <td>33</td>\n",
       "      <td>0.0</td>\n",
       "    </tr>\n",
       "    <tr>\n",
       "      <th>48879</th>\n",
       "      <td>A1LQ91OQQCJTW</td>\n",
       "      <td>B0096R3D6G</td>\n",
       "      <td>5.0</td>\n",
       "      <td>5.0</td>\n",
       "      <td>{'was_impossible': False}</td>\n",
       "      <td>15</td>\n",
       "      <td>9</td>\n",
       "      <td>0.0</td>\n",
       "    </tr>\n",
       "    <tr>\n",
       "      <th>888814</th>\n",
       "      <td>AQ5162O4J4ZQT</td>\n",
       "      <td>B003LXDO4W</td>\n",
       "      <td>5.0</td>\n",
       "      <td>5.0</td>\n",
       "      <td>{'was_impossible': False}</td>\n",
       "      <td>5</td>\n",
       "      <td>13</td>\n",
       "      <td>0.0</td>\n",
       "    </tr>\n",
       "    <tr>\n",
       "      <th>154255</th>\n",
       "      <td>A2LQN25HW5IGSB</td>\n",
       "      <td>B004D82KDA</td>\n",
       "      <td>5.0</td>\n",
       "      <td>5.0</td>\n",
       "      <td>{'was_impossible': False}</td>\n",
       "      <td>14</td>\n",
       "      <td>147</td>\n",
       "      <td>0.0</td>\n",
       "    </tr>\n",
       "    <tr>\n",
       "      <th>601467</th>\n",
       "      <td>A38D8L7MIL012I</td>\n",
       "      <td>B000TGPR4O</td>\n",
       "      <td>5.0</td>\n",
       "      <td>5.0</td>\n",
       "      <td>{'was_impossible': False}</td>\n",
       "      <td>3</td>\n",
       "      <td>399</td>\n",
       "      <td>0.0</td>\n",
       "    </tr>\n",
       "    <tr>\n",
       "      <th>...</th>\n",
       "      <td>...</td>\n",
       "      <td>...</td>\n",
       "      <td>...</td>\n",
       "      <td>...</td>\n",
       "      <td>...</td>\n",
       "      <td>...</td>\n",
       "      <td>...</td>\n",
       "      <td>...</td>\n",
       "    </tr>\n",
       "    <tr>\n",
       "      <th>999816</th>\n",
       "      <td>A2EU7MK7PQYTR4</td>\n",
       "      <td>B00631VHES</td>\n",
       "      <td>5.0</td>\n",
       "      <td>5.0</td>\n",
       "      <td>{'was_impossible': False}</td>\n",
       "      <td>20</td>\n",
       "      <td>64</td>\n",
       "      <td>0.0</td>\n",
       "    </tr>\n",
       "    <tr>\n",
       "      <th>158268</th>\n",
       "      <td>A2SVD2GBC0SUH3</td>\n",
       "      <td>B000KCXRIA</td>\n",
       "      <td>5.0</td>\n",
       "      <td>5.0</td>\n",
       "      <td>{'was_impossible': False}</td>\n",
       "      <td>22</td>\n",
       "      <td>5</td>\n",
       "      <td>0.0</td>\n",
       "    </tr>\n",
       "    <tr>\n",
       "      <th>243661</th>\n",
       "      <td>A14I3AOGZZE1JQ</td>\n",
       "      <td>B00HUFTIZG</td>\n",
       "      <td>5.0</td>\n",
       "      <td>5.0</td>\n",
       "      <td>{'was_impossible': False}</td>\n",
       "      <td>7</td>\n",
       "      <td>16</td>\n",
       "      <td>0.0</td>\n",
       "    </tr>\n",
       "    <tr>\n",
       "      <th>316009</th>\n",
       "      <td>A1K5FEDJ9WI5KV</td>\n",
       "      <td>B000N2ZZGO</td>\n",
       "      <td>5.0</td>\n",
       "      <td>5.0</td>\n",
       "      <td>{'was_impossible': False}</td>\n",
       "      <td>8</td>\n",
       "      <td>21</td>\n",
       "      <td>0.0</td>\n",
       "    </tr>\n",
       "    <tr>\n",
       "      <th>626801</th>\n",
       "      <td>AWGGXQB5WYQO</td>\n",
       "      <td>B008OR2RBQ</td>\n",
       "      <td>5.0</td>\n",
       "      <td>5.0</td>\n",
       "      <td>{'was_impossible': False}</td>\n",
       "      <td>20</td>\n",
       "      <td>54</td>\n",
       "      <td>0.0</td>\n",
       "    </tr>\n",
       "  </tbody>\n",
       "</table>\n",
       "<p>1000 rows × 8 columns</p>\n",
       "</div>"
      ],
      "text/plain": [
       "                   uid         iid  rui  est                    details  Iu  \\\n",
       "713588   AV2KELKLP3CI3  B0071QVWGM  5.0  5.0  {'was_impossible': False}  22   \n",
       "48879    A1LQ91OQQCJTW  B0096R3D6G  5.0  5.0  {'was_impossible': False}  15   \n",
       "888814   AQ5162O4J4ZQT  B003LXDO4W  5.0  5.0  {'was_impossible': False}   5   \n",
       "154255  A2LQN25HW5IGSB  B004D82KDA  5.0  5.0  {'was_impossible': False}  14   \n",
       "601467  A38D8L7MIL012I  B000TGPR4O  5.0  5.0  {'was_impossible': False}   3   \n",
       "...                ...         ...  ...  ...                        ...  ..   \n",
       "999816  A2EU7MK7PQYTR4  B00631VHES  5.0  5.0  {'was_impossible': False}  20   \n",
       "158268  A2SVD2GBC0SUH3  B000KCXRIA  5.0  5.0  {'was_impossible': False}  22   \n",
       "243661  A14I3AOGZZE1JQ  B00HUFTIZG  5.0  5.0  {'was_impossible': False}   7   \n",
       "316009  A1K5FEDJ9WI5KV  B000N2ZZGO  5.0  5.0  {'was_impossible': False}   8   \n",
       "626801    AWGGXQB5WYQO  B008OR2RBQ  5.0  5.0  {'was_impossible': False}  20   \n",
       "\n",
       "         Ui  err  \n",
       "713588   33  0.0  \n",
       "48879     9  0.0  \n",
       "888814   13  0.0  \n",
       "154255  147  0.0  \n",
       "601467  399  0.0  \n",
       "...     ...  ...  \n",
       "999816   64  0.0  \n",
       "158268    5  0.0  \n",
       "243661   16  0.0  \n",
       "316009   21  0.0  \n",
       "626801   54  0.0  \n",
       "\n",
       "[1000 rows x 8 columns]"
      ]
     },
     "execution_count": 15,
     "metadata": {},
     "output_type": "execute_result"
    }
   ],
   "source": [
    "best_predictions"
   ]
  },
  {
   "cell_type": "code",
   "execution_count": 16,
   "id": "748a7197",
   "metadata": {},
   "outputs": [
    {
     "data": {
      "text/html": [
       "<div>\n",
       "<style scoped>\n",
       "    .dataframe tbody tr th:only-of-type {\n",
       "        vertical-align: middle;\n",
       "    }\n",
       "\n",
       "    .dataframe tbody tr th {\n",
       "        vertical-align: top;\n",
       "    }\n",
       "\n",
       "    .dataframe thead th {\n",
       "        text-align: right;\n",
       "    }\n",
       "</style>\n",
       "<table border=\"1\" class=\"dataframe\">\n",
       "  <thead>\n",
       "    <tr style=\"text-align: right;\">\n",
       "      <th></th>\n",
       "      <th>uid</th>\n",
       "      <th>iid</th>\n",
       "      <th>rui</th>\n",
       "      <th>est</th>\n",
       "      <th>details</th>\n",
       "      <th>Iu</th>\n",
       "      <th>Ui</th>\n",
       "      <th>err</th>\n",
       "    </tr>\n",
       "  </thead>\n",
       "  <tbody>\n",
       "    <tr>\n",
       "      <th>1026234</th>\n",
       "      <td>AHCIGC6XU4FD1</td>\n",
       "      <td>B00336EYNC</td>\n",
       "      <td>1.0</td>\n",
       "      <td>4.641075</td>\n",
       "      <td>{'was_impossible': False}</td>\n",
       "      <td>3</td>\n",
       "      <td>82</td>\n",
       "      <td>3.641075</td>\n",
       "    </tr>\n",
       "    <tr>\n",
       "      <th>100553</th>\n",
       "      <td>A1FVABZTVKZA1C</td>\n",
       "      <td>B003X1KG52</td>\n",
       "      <td>1.0</td>\n",
       "      <td>4.641087</td>\n",
       "      <td>{'was_impossible': False}</td>\n",
       "      <td>7</td>\n",
       "      <td>233</td>\n",
       "      <td>3.641087</td>\n",
       "    </tr>\n",
       "    <tr>\n",
       "      <th>319074</th>\n",
       "      <td>A3HITZ7W2KPF1Y</td>\n",
       "      <td>B007OUS196</td>\n",
       "      <td>1.0</td>\n",
       "      <td>4.641637</td>\n",
       "      <td>{'was_impossible': False}</td>\n",
       "      <td>0</td>\n",
       "      <td>25</td>\n",
       "      <td>3.641637</td>\n",
       "    </tr>\n",
       "    <tr>\n",
       "      <th>246450</th>\n",
       "      <td>A10GMEW3QDGG87</td>\n",
       "      <td>B005002MN8</td>\n",
       "      <td>1.0</td>\n",
       "      <td>4.641752</td>\n",
       "      <td>{'was_impossible': False}</td>\n",
       "      <td>2</td>\n",
       "      <td>563</td>\n",
       "      <td>3.641752</td>\n",
       "    </tr>\n",
       "    <tr>\n",
       "      <th>93850</th>\n",
       "      <td>A17ZQ2LURBOCKR</td>\n",
       "      <td>B002B8P0W2</td>\n",
       "      <td>1.0</td>\n",
       "      <td>4.641826</td>\n",
       "      <td>{'was_impossible': False}</td>\n",
       "      <td>0</td>\n",
       "      <td>14</td>\n",
       "      <td>3.641826</td>\n",
       "    </tr>\n",
       "    <tr>\n",
       "      <th>...</th>\n",
       "      <td>...</td>\n",
       "      <td>...</td>\n",
       "      <td>...</td>\n",
       "      <td>...</td>\n",
       "      <td>...</td>\n",
       "      <td>...</td>\n",
       "      <td>...</td>\n",
       "      <td>...</td>\n",
       "    </tr>\n",
       "    <tr>\n",
       "      <th>432087</th>\n",
       "      <td>A1ISO5EJWU2YQ5</td>\n",
       "      <td>B0028ISLV2</td>\n",
       "      <td>1.0</td>\n",
       "      <td>5.000000</td>\n",
       "      <td>{'was_impossible': False}</td>\n",
       "      <td>11</td>\n",
       "      <td>15</td>\n",
       "      <td>4.000000</td>\n",
       "    </tr>\n",
       "    <tr>\n",
       "      <th>1025168</th>\n",
       "      <td>A1QBCZ0R3JGUGE</td>\n",
       "      <td>B003B2XXLM</td>\n",
       "      <td>1.0</td>\n",
       "      <td>5.000000</td>\n",
       "      <td>{'was_impossible': False}</td>\n",
       "      <td>26</td>\n",
       "      <td>279</td>\n",
       "      <td>4.000000</td>\n",
       "    </tr>\n",
       "    <tr>\n",
       "      <th>828974</th>\n",
       "      <td>A2SIB5R7MW404L</td>\n",
       "      <td>B00DMWQQEW</td>\n",
       "      <td>1.0</td>\n",
       "      <td>5.000000</td>\n",
       "      <td>{'was_impossible': False}</td>\n",
       "      <td>35</td>\n",
       "      <td>213</td>\n",
       "      <td>4.000000</td>\n",
       "    </tr>\n",
       "    <tr>\n",
       "      <th>1098488</th>\n",
       "      <td>A3159QSGLHJ748</td>\n",
       "      <td>B00139U3HW</td>\n",
       "      <td>1.0</td>\n",
       "      <td>5.000000</td>\n",
       "      <td>{'was_impossible': False}</td>\n",
       "      <td>15</td>\n",
       "      <td>30</td>\n",
       "      <td>4.000000</td>\n",
       "    </tr>\n",
       "    <tr>\n",
       "      <th>260833</th>\n",
       "      <td>A389PAWPLVRTGV</td>\n",
       "      <td>B001AM9NMS</td>\n",
       "      <td>1.0</td>\n",
       "      <td>5.000000</td>\n",
       "      <td>{'was_impossible': False}</td>\n",
       "      <td>1</td>\n",
       "      <td>102</td>\n",
       "      <td>4.000000</td>\n",
       "    </tr>\n",
       "  </tbody>\n",
       "</table>\n",
       "<p>1000 rows × 8 columns</p>\n",
       "</div>"
      ],
      "text/plain": [
       "                    uid         iid  rui       est                    details  \\\n",
       "1026234   AHCIGC6XU4FD1  B00336EYNC  1.0  4.641075  {'was_impossible': False}   \n",
       "100553   A1FVABZTVKZA1C  B003X1KG52  1.0  4.641087  {'was_impossible': False}   \n",
       "319074   A3HITZ7W2KPF1Y  B007OUS196  1.0  4.641637  {'was_impossible': False}   \n",
       "246450   A10GMEW3QDGG87  B005002MN8  1.0  4.641752  {'was_impossible': False}   \n",
       "93850    A17ZQ2LURBOCKR  B002B8P0W2  1.0  4.641826  {'was_impossible': False}   \n",
       "...                 ...         ...  ...       ...                        ...   \n",
       "432087   A1ISO5EJWU2YQ5  B0028ISLV2  1.0  5.000000  {'was_impossible': False}   \n",
       "1025168  A1QBCZ0R3JGUGE  B003B2XXLM  1.0  5.000000  {'was_impossible': False}   \n",
       "828974   A2SIB5R7MW404L  B00DMWQQEW  1.0  5.000000  {'was_impossible': False}   \n",
       "1098488  A3159QSGLHJ748  B00139U3HW  1.0  5.000000  {'was_impossible': False}   \n",
       "260833   A389PAWPLVRTGV  B001AM9NMS  1.0  5.000000  {'was_impossible': False}   \n",
       "\n",
       "         Iu   Ui       err  \n",
       "1026234   3   82  3.641075  \n",
       "100553    7  233  3.641087  \n",
       "319074    0   25  3.641637  \n",
       "246450    2  563  3.641752  \n",
       "93850     0   14  3.641826  \n",
       "...      ..  ...       ...  \n",
       "432087   11   15  4.000000  \n",
       "1025168  26  279  4.000000  \n",
       "828974   35  213  4.000000  \n",
       "1098488  15   30  4.000000  \n",
       "260833    1  102  4.000000  \n",
       "\n",
       "[1000 rows x 8 columns]"
      ]
     },
     "execution_count": 16,
     "metadata": {},
     "output_type": "execute_result"
    }
   ],
   "source": [
    "worst_predictions"
   ]
  },
  {
   "cell_type": "markdown",
   "id": "897444ca",
   "metadata": {},
   "source": [
    "That's it! We build a fashion apparel recommendation system using the Surprise library. You can perform hyperparameters tuning and Cross-validation with Surprise to get more accurate predictions. You can find the official Surprise documentation [here](https://surprise.readthedocs.io/en/stable/index.html).\n",
    "I love your feedback, please let me know what you think."
   ]
  },
  {
   "cell_type": "code",
   "execution_count": null,
   "id": "19854822",
   "metadata": {},
   "outputs": [],
   "source": []
  }
 ],
 "metadata": {
  "kernelspec": {
   "display_name": "Python 3",
   "language": "python",
   "name": "python3"
  },
  "language_info": {
   "codemirror_mode": {
    "name": "ipython",
    "version": 3
   },
   "file_extension": ".py",
   "mimetype": "text/x-python",
   "name": "python",
   "nbconvert_exporter": "python",
   "pygments_lexer": "ipython3",
   "version": "3.6.7"
  }
 },
 "nbformat": 4,
 "nbformat_minor": 5
}
