{
 "cells": [
  {
   "cell_type": "markdown",
   "id": "2ddd4cd4",
   "metadata": {},
   "source": [
    "### Build a Simple Recommender System Using \"Surprise\""
   ]
  },
  {
   "cell_type": "markdown",
   "id": "80d329fa",
   "metadata": {},
   "source": [
    "This is a Jupyter Notebook. When you execute code within the notebook, the results appear beneath the code. To execute a code chunk, place your cursor on the cell and press Shift+Enter.\n",
    "\n",
    "Recommender Systems are used to predict user preferences or we can say that these are systems that help people find things when the manual process of selection is a little bit challenging because of too many choices or alternatives. The best examples are Amazon recommending us the next book to read or Netflix suggesting the next movie to watch.\n",
    "There are three types of recommender systems.\n",
    "<ul>\n",
    "    <li>Collaborative filtering</li>\n",
    "    <li>Content-based filtering</li>\n",
    "    <li>Hybrid recommender system</li>\n",
    "</ul>\n",
    "We are going to build a recommender system using the collaborative filtering technique. \n",
    "Collaborative filtering is the technique of making predictions (filtering) about the interests of a user by collecting preferences or taste information from many users (collaborating).\n",
    "\n",
    "[Surprise](https://github.com/NicolasHug/Surprise) is a Python [scikit](https://www.scipy.org/scikits.html) for building and testing recommender systems that deal with explicit rating data. \n",
    "We will make use of this library for building the collaborative filtering based recommender system."
   ]
  },
  {
   "cell_type": "markdown",
   "id": "c81f665f",
   "metadata": {},
   "source": [
    "### Installation"
   ]
  },
  {
   "cell_type": "markdown",
   "id": "75bb3d9b",
   "metadata": {},
   "source": [
    "You can install Surprise on your machine using pip cor conda. You'll also need numpy and a C compiler. The recommended method for windows users is using conda):"
   ]
  },
  {
   "cell_type": "code",
   "execution_count": 19,
   "id": "a5c0c84d",
   "metadata": {},
   "outputs": [
    {
     "name": "stdout",
     "output_type": "stream",
     "text": [
      "Requirement already satisfied: numpy in /Users/nidhin/anaconda3/envs/py36/lib/python3.6/site-packages (1.19.5)\n",
      "Requirement already satisfied: scikit-surprise in /Users/nidhin/anaconda3/envs/py36/lib/python3.6/site-packages (1.1.1)\n",
      "Requirement already satisfied: scipy>=1.0.0 in /Users/nidhin/anaconda3/envs/py36/lib/python3.6/site-packages (from scikit-surprise) (1.5.4)\n",
      "Requirement already satisfied: six>=1.10.0 in /Users/nidhin/anaconda3/envs/py36/lib/python3.6/site-packages (from scikit-surprise) (1.16.0)\n",
      "Requirement already satisfied: joblib>=0.11 in /Users/nidhin/anaconda3/envs/py36/lib/python3.6/site-packages (from scikit-surprise) (1.1.1)\n",
      "Requirement already satisfied: numpy>=1.11.2 in /Users/nidhin/anaconda3/envs/py36/lib/python3.6/site-packages (from scikit-surprise) (1.19.5)\n",
      "Requirement already satisfied: pandas in /Users/nidhin/anaconda3/envs/py36/lib/python3.6/site-packages (1.1.5)\n",
      "Requirement already satisfied: python-dateutil>=2.7.3 in /Users/nidhin/anaconda3/envs/py36/lib/python3.6/site-packages (from pandas) (2.8.2)\n",
      "Requirement already satisfied: pytz>=2017.2 in /Users/nidhin/anaconda3/envs/py36/lib/python3.6/site-packages (from pandas) (2022.6)\n",
      "Requirement already satisfied: numpy>=1.15.4 in /Users/nidhin/anaconda3/envs/py36/lib/python3.6/site-packages (from pandas) (1.19.5)\n",
      "Requirement already satisfied: six>=1.5 in /Users/nidhin/anaconda3/envs/py36/lib/python3.6/site-packages (from python-dateutil>=2.7.3->pandas) (1.16.0)\n",
      "Requirement already satisfied: matplotlib in /Users/nidhin/anaconda3/envs/py36/lib/python3.6/site-packages (3.3.4)\n",
      "Requirement already satisfied: kiwisolver>=1.0.1 in /Users/nidhin/anaconda3/envs/py36/lib/python3.6/site-packages (from matplotlib) (1.3.1)\n",
      "Requirement already satisfied: numpy>=1.15 in /Users/nidhin/anaconda3/envs/py36/lib/python3.6/site-packages (from matplotlib) (1.19.5)\n",
      "Requirement already satisfied: pillow>=6.2.0 in /Users/nidhin/anaconda3/envs/py36/lib/python3.6/site-packages (from matplotlib) (8.3.2)\n",
      "Requirement already satisfied: pyparsing!=2.0.4,!=2.1.2,!=2.1.6,>=2.0.3 in /Users/nidhin/anaconda3/envs/py36/lib/python3.6/site-packages (from matplotlib) (3.0.9)\n",
      "Requirement already satisfied: python-dateutil>=2.1 in /Users/nidhin/anaconda3/envs/py36/lib/python3.6/site-packages (from matplotlib) (2.8.2)\n",
      "Requirement already satisfied: cycler>=0.10 in /Users/nidhin/anaconda3/envs/py36/lib/python3.6/site-packages (from matplotlib) (0.11.0)\n",
      "Requirement already satisfied: six>=1.5 in /Users/nidhin/anaconda3/envs/py36/lib/python3.6/site-packages (from python-dateutil>=2.1->matplotlib) (1.16.0)\n",
      "Requirement already satisfied: seaborn in /Users/nidhin/anaconda3/envs/py36/lib/python3.6/site-packages (0.11.2)\n",
      "Requirement already satisfied: scipy>=1.0 in /Users/nidhin/anaconda3/envs/py36/lib/python3.6/site-packages (from seaborn) (1.5.4)\n",
      "Requirement already satisfied: pandas>=0.23 in /Users/nidhin/anaconda3/envs/py36/lib/python3.6/site-packages (from seaborn) (1.1.5)\n",
      "Requirement already satisfied: numpy>=1.15 in /Users/nidhin/anaconda3/envs/py36/lib/python3.6/site-packages (from seaborn) (1.19.5)\n",
      "Requirement already satisfied: matplotlib>=2.2 in /Users/nidhin/anaconda3/envs/py36/lib/python3.6/site-packages (from seaborn) (3.3.4)\n",
      "Requirement already satisfied: pillow>=6.2.0 in /Users/nidhin/anaconda3/envs/py36/lib/python3.6/site-packages (from matplotlib>=2.2->seaborn) (8.3.2)\n",
      "Requirement already satisfied: python-dateutil>=2.1 in /Users/nidhin/anaconda3/envs/py36/lib/python3.6/site-packages (from matplotlib>=2.2->seaborn) (2.8.2)\n",
      "Requirement already satisfied: kiwisolver>=1.0.1 in /Users/nidhin/anaconda3/envs/py36/lib/python3.6/site-packages (from matplotlib>=2.2->seaborn) (1.3.1)\n",
      "Requirement already satisfied: pyparsing!=2.0.4,!=2.1.2,!=2.1.6,>=2.0.3 in /Users/nidhin/anaconda3/envs/py36/lib/python3.6/site-packages (from matplotlib>=2.2->seaborn) (3.0.9)\n",
      "Requirement already satisfied: cycler>=0.10 in /Users/nidhin/anaconda3/envs/py36/lib/python3.6/site-packages (from matplotlib>=2.2->seaborn) (0.11.0)\n",
      "Requirement already satisfied: pytz>=2017.2 in /Users/nidhin/anaconda3/envs/py36/lib/python3.6/site-packages (from pandas>=0.23->seaborn) (2022.6)\n",
      "Requirement already satisfied: six>=1.5 in /Users/nidhin/anaconda3/envs/py36/lib/python3.6/site-packages (from python-dateutil>=2.1->matplotlib>=2.2->seaborn) (1.16.0)\n"
     ]
    }
   ],
   "source": [
    "!pip install numpy\n",
    "!pip install scikit-surprise\n",
    "!pip install pandas\n",
    "!pip install matplotlib\n",
    "!pip install seaborn"
   ]
  },
  {
   "cell_type": "markdown",
   "id": "03c61b96",
   "metadata": {},
   "source": [
    "With conda"
   ]
  },
  {
   "cell_type": "code",
   "execution_count": 20,
   "id": "c6816dfb",
   "metadata": {},
   "outputs": [],
   "source": [
    "#!conda install -c conda-forge scikit-surprise"
   ]
  },
  {
   "cell_type": "markdown",
   "id": "a5b3c21a",
   "metadata": {},
   "source": [
    "### Import Libraries"
   ]
  },
  {
   "cell_type": "code",
   "execution_count": 21,
   "id": "35b2a98e",
   "metadata": {},
   "outputs": [],
   "source": [
    "import numpy as np\n",
    "import pandas as pd\n",
    "import seaborn as sns\n",
    "import matplotlib.pyplot as plt\n",
    "from surprise import Reader, Dataset\n",
    "from surprise.model_selection import train_test_split\n",
    "from surprise import SVD, accuracy"
   ]
  },
  {
   "cell_type": "markdown",
   "id": "de8946fc",
   "metadata": {},
   "source": [
    "### Load Data"
   ]
  },
  {
   "cell_type": "markdown",
   "id": "342f29be",
   "metadata": {},
   "source": [
    "We are going to use the Amazon's clothing, shoes and jewellery rating dataset from [here](https://jmcauley.ucsd.edu/data/amazon/)"
   ]
  },
  {
   "cell_type": "code",
   "execution_count": 22,
   "id": "15d851b1",
   "metadata": {},
   "outputs": [
    {
     "data": {
      "text/html": [
       "<div>\n",
       "<style scoped>\n",
       "    .dataframe tbody tr th:only-of-type {\n",
       "        vertical-align: middle;\n",
       "    }\n",
       "\n",
       "    .dataframe tbody tr th {\n",
       "        vertical-align: top;\n",
       "    }\n",
       "\n",
       "    .dataframe thead th {\n",
       "        text-align: right;\n",
       "    }\n",
       "</style>\n",
       "<table border=\"1\" class=\"dataframe\">\n",
       "  <thead>\n",
       "    <tr style=\"text-align: right;\">\n",
       "      <th></th>\n",
       "      <th>reviewerID</th>\n",
       "      <th>asin</th>\n",
       "      <th>overall</th>\n",
       "      <th>unixReviewTime</th>\n",
       "    </tr>\n",
       "  </thead>\n",
       "  <tbody>\n",
       "    <tr>\n",
       "      <th>0</th>\n",
       "      <td>A2XVJBSRI3SWDI</td>\n",
       "      <td>0000031887</td>\n",
       "      <td>5.0</td>\n",
       "      <td>1383523200</td>\n",
       "    </tr>\n",
       "    <tr>\n",
       "      <th>1</th>\n",
       "      <td>A2G0LNLN79Q6HR</td>\n",
       "      <td>0000031887</td>\n",
       "      <td>4.0</td>\n",
       "      <td>1337990400</td>\n",
       "    </tr>\n",
       "    <tr>\n",
       "      <th>2</th>\n",
       "      <td>A2R3K1KX09QBYP</td>\n",
       "      <td>0000031887</td>\n",
       "      <td>2.0</td>\n",
       "      <td>1361059200</td>\n",
       "    </tr>\n",
       "    <tr>\n",
       "      <th>3</th>\n",
       "      <td>A19PBP93OF896</td>\n",
       "      <td>0000031887</td>\n",
       "      <td>1.0</td>\n",
       "      <td>1363824000</td>\n",
       "    </tr>\n",
       "    <tr>\n",
       "      <th>4</th>\n",
       "      <td>A1P0IHU93EF9ZK</td>\n",
       "      <td>0000031887</td>\n",
       "      <td>4.0</td>\n",
       "      <td>1390435200</td>\n",
       "    </tr>\n",
       "  </tbody>\n",
       "</table>\n",
       "</div>"
      ],
      "text/plain": [
       "       reviewerID        asin  overall  unixReviewTime\n",
       "0  A2XVJBSRI3SWDI  0000031887      5.0      1383523200\n",
       "1  A2G0LNLN79Q6HR  0000031887      4.0      1337990400\n",
       "2  A2R3K1KX09QBYP  0000031887      2.0      1361059200\n",
       "3   A19PBP93OF896  0000031887      1.0      1363824000\n",
       "4  A1P0IHU93EF9ZK  0000031887      4.0      1390435200"
      ]
     },
     "execution_count": 22,
     "metadata": {},
     "output_type": "execute_result"
    }
   ],
   "source": [
    "colnames=['reviewerID', 'asin', 'overall', 'unixReviewTime'] \n",
    "data = pd.read_csv('./data/ratings.csv', names=colnames, header=None)\n",
    "data.head()"
   ]
  },
  {
   "cell_type": "markdown",
   "id": "69c02c4b",
   "metadata": {},
   "source": [
    "As you can see the data is loaded using pandas. We have four columns reviewerID, asin, overall and unixReviewTime.<br/>\n",
    "\n",
    "where\n",
    "<ul>\n",
    "    <li>reviewerID - ID of the reviewer, e.g. A2SUAM1J3GNN3B</li>\n",
    "    <li>asin - ID of the product, e.g. 0000013714</li>\n",
    "    <li>overall - rating of the product</li>\n",
    "    <li>unixReviewTime - time of the review (unix time)</li>\n",
    "</ul>"
   ]
  },
  {
   "cell_type": "code",
   "execution_count": 23,
   "id": "69af6342",
   "metadata": {},
   "outputs": [
    {
     "name": "stdout",
     "output_type": "stream",
     "text": [
      "<class 'pandas.core.frame.DataFrame'>\n",
      "RangeIndex: 5748920 entries, 0 to 5748919\n",
      "Data columns (total 4 columns):\n",
      " #   Column          Dtype  \n",
      "---  ------          -----  \n",
      " 0   reviewerID      object \n",
      " 1   asin            object \n",
      " 2   overall         float64\n",
      " 3   unixReviewTime  int64  \n",
      "dtypes: float64(1), int64(1), object(2)\n",
      "memory usage: 175.4+ MB\n"
     ]
    }
   ],
   "source": [
    "data.info()"
   ]
  },
  {
   "cell_type": "markdown",
   "id": "fdeac8ed",
   "metadata": {},
   "source": [
    "The dataset contains 5748920 rows of data. Now we will check the value counts of the column overall."
   ]
  },
  {
   "cell_type": "code",
   "execution_count": 24,
   "id": "cc9a3dbb",
   "metadata": {},
   "outputs": [
    {
     "data": {
      "text/plain": [
       "5.0    3303450\n",
       "4.0    1120583\n",
       "3.0     574597\n",
       "1.0     396523\n",
       "2.0     353767\n",
       "Name: overall, dtype: int64"
      ]
     },
     "execution_count": 24,
     "metadata": {},
     "output_type": "execute_result"
    }
   ],
   "source": [
    "data.overall.value_counts()"
   ]
  },
  {
   "cell_type": "markdown",
   "id": "f207e832",
   "metadata": {},
   "source": [
    "We can see that the rating of 5.0 has the highest value counts. This means more people rated an item 5.0. It is shown in the plot below."
   ]
  },
  {
   "cell_type": "code",
   "execution_count": 25,
   "id": "36cd8edd",
   "metadata": {},
   "outputs": [
    {
     "data": {
      "image/png": "[encoded data removed]",
      "text/plain": [
       "<Figure size 432x288 with 1 Axes>"
      ]
     },
     "metadata": {
      "needs_background": "light"
     },
     "output_type": "display_data"
    }
   ],
   "source": [
    "data.overall.value_counts().plot(kind='bar')\n",
    "plt.show()"
   ]
  },
  {
   "cell_type": "markdown",
   "id": "d86a6096",
   "metadata": {},
   "source": [
    "Now we will check for null values in the dataset."
   ]
  },
  {
   "cell_type": "code",
   "execution_count": 26,
   "id": "ae703a18",
   "metadata": {},
   "outputs": [
    {
     "data": {
      "text/plain": [
       "reviewerID        0\n",
       "asin              0\n",
       "overall           0\n",
       "unixReviewTime    0\n",
       "dtype: int64"
      ]
     },
     "execution_count": 26,
     "metadata": {},
     "output_type": "execute_result"
    }
   ],
   "source": [
    "data.isnull().sum()"
   ]
  },
  {
   "cell_type": "markdown",
   "id": "5fddf140",
   "metadata": {},
   "source": [
    "As there are no null values in the dataset we will jump into the next step."
   ]
  },
  {
   "cell_type": "markdown",
   "id": "5bd7f969",
   "metadata": {},
   "source": [
    "### Load Data into Surprise"
   ]
  },
  {
   "cell_type": "markdown",
   "id": "f1139e97",
   "metadata": {},
   "source": [
    "We don't need the timestamp column for this. So we will remove that column from the dataset."
   ]
  },
  {
   "cell_type": "code",
   "execution_count": 27,
   "id": "3c9855c2",
   "metadata": {},
   "outputs": [
    {
     "data": {
      "text/html": [
       "<div>\n",
       "<style scoped>\n",
       "    .dataframe tbody tr th:only-of-type {\n",
       "        vertical-align: middle;\n",
       "    }\n",
       "\n",
       "    .dataframe tbody tr th {\n",
       "        vertical-align: top;\n",
       "    }\n",
       "\n",
       "    .dataframe thead th {\n",
       "        text-align: right;\n",
       "    }\n",
       "</style>\n",
       "<table border=\"1\" class=\"dataframe\">\n",
       "  <thead>\n",
       "    <tr style=\"text-align: right;\">\n",
       "      <th></th>\n",
       "      <th>reviewerID</th>\n",
       "      <th>asin</th>\n",
       "      <th>overall</th>\n",
       "    </tr>\n",
       "  </thead>\n",
       "  <tbody>\n",
       "    <tr>\n",
       "      <th>0</th>\n",
       "      <td>A2XVJBSRI3SWDI</td>\n",
       "      <td>0000031887</td>\n",
       "      <td>5.0</td>\n",
       "    </tr>\n",
       "    <tr>\n",
       "      <th>1</th>\n",
       "      <td>A2G0LNLN79Q6HR</td>\n",
       "      <td>0000031887</td>\n",
       "      <td>4.0</td>\n",
       "    </tr>\n",
       "    <tr>\n",
       "      <th>2</th>\n",
       "      <td>A2R3K1KX09QBYP</td>\n",
       "      <td>0000031887</td>\n",
       "      <td>2.0</td>\n",
       "    </tr>\n",
       "    <tr>\n",
       "      <th>3</th>\n",
       "      <td>A19PBP93OF896</td>\n",
       "      <td>0000031887</td>\n",
       "      <td>1.0</td>\n",
       "    </tr>\n",
       "    <tr>\n",
       "      <th>4</th>\n",
       "      <td>A1P0IHU93EF9ZK</td>\n",
       "      <td>0000031887</td>\n",
       "      <td>4.0</td>\n",
       "    </tr>\n",
       "  </tbody>\n",
       "</table>\n",
       "</div>"
      ],
      "text/plain": [
       "       reviewerID        asin  overall\n",
       "0  A2XVJBSRI3SWDI  0000031887      5.0\n",
       "1  A2G0LNLN79Q6HR  0000031887      4.0\n",
       "2  A2R3K1KX09QBYP  0000031887      2.0\n",
       "3   A19PBP93OF896  0000031887      1.0\n",
       "4  A1P0IHU93EF9ZK  0000031887      4.0"
      ]
     },
     "execution_count": 27,
     "metadata": {},
     "output_type": "execute_result"
    }
   ],
   "source": [
    "data = data[['reviewerID', 'asin', 'overall', 'unixReviewTime']]\n",
    "input_data = data.iloc[:, :-1]\n",
    "input_data.head()"
   ]
  },
  {
   "cell_type": "markdown",
   "id": "04c9e130",
   "metadata": {},
   "source": [
    "To load the dataset from pandas data frame to Surprise, we will use the load_from_df() method. We will also need a Reader object with the rating_scale the parameter specified as (1,5)."
   ]
  },
  {
   "cell_type": "code",
   "execution_count": 28,
   "id": "24a82d59",
   "metadata": {},
   "outputs": [],
   "source": [
    "reader = Reader(rating_scale=(1,5))\n",
    "input_data = Dataset.load_from_df(input_data[['reviewerID', 'asin', 'overall']], reader)"
   ]
  },
  {
   "cell_type": "markdown",
   "id": "5a52d595",
   "metadata": {},
   "source": [
    "Now we will split the input_data to train and test data in an 80:20 ratio."
   ]
  },
  {
   "cell_type": "code",
   "execution_count": 29,
   "id": "ce8c8ee6",
   "metadata": {},
   "outputs": [],
   "source": [
    "train_data, test_data = train_test_split(input_data, test_size=0.20)"
   ]
  },
  {
   "cell_type": "markdown",
   "id": "b040cab5",
   "metadata": {},
   "source": [
    "The most known and widely used matrix decomposition method is the Singular-Value Decomposition or SVD. All matrices have an SVD, which makes SVD more stable than other methods. So we will use this technique for training our model."
   ]
  },
  {
   "cell_type": "code",
   "execution_count": null,
   "id": "a50d1fed",
   "metadata": {},
   "outputs": [],
   "source": [
    "algo = SVD()\n",
    "predictions = algo.fit(train_data).test(test_data)"
   ]
  },
  {
   "cell_type": "code",
   "execution_count": null,
   "id": "68e418ec",
   "metadata": {},
   "outputs": [],
   "source": [
    "accuracy.rmse(predictions)\n",
    "accuracy.mae(predictions)\n",
    "accuracy.mse(predictions)"
   ]
  },
  {
   "cell_type": "markdown",
   "id": "49f0cfbb",
   "metadata": {},
   "source": [
    "To inspect our predictions in details, we are going to build a pandas data frame with all the predictions. The following code is largely taken from this [notebook](https://nbviewer.jupyter.org/github/NicolasHug/Surprise/blob/master/examples/notebooks/KNNBasic_analysis.ipynb)."
   ]
  },
  {
   "cell_type": "code",
   "execution_count": null,
   "id": "8f6de1b4",
   "metadata": {},
   "outputs": [],
   "source": [
    "def get_Iu(uid):\n",
    "    \"\"\" return the number of items rated by given user\n",
    "    args: \n",
    "      uid: the id of the user\n",
    "    returns: \n",
    "      the number of items rated by the user\n",
    "    \"\"\"\n",
    "    try:\n",
    "        return len(train_data.ur[train_data.to_inner_uid(uid)])\n",
    "    except ValueError: # user was not part of the trainset\n",
    "        return 0\n",
    "    \n",
    "def get_Ui(iid):\n",
    "    \"\"\" return number of users that have rated given item\n",
    "    args:\n",
    "      iid: the raw id of the item\n",
    "    returns:\n",
    "      the number of users that have rated the item.\n",
    "    \"\"\"\n",
    "    try: \n",
    "        return len(train_data.ir[train_data.to_inner_iid(iid)])\n",
    "    except ValueError:\n",
    "        return 0\n",
    "    \n",
    "df = pd.DataFrame(predictions, columns=['uid', 'iid', 'rui', 'est', 'details'])\n",
    "df['Iu'] = df.uid.apply(get_Iu)\n",
    "df['Ui'] = df.iid.apply(get_Ui)\n",
    "df['err'] = abs(df.est - df.rui)\n",
    "best_predictions = df.sort_values(by='err')[:1000]\n",
    "worst_predictions = df.sort_values(by='err')[-1000:]"
   ]
  },
  {
   "cell_type": "code",
   "execution_count": null,
   "id": "c49b1c11",
   "metadata": {},
   "outputs": [],
   "source": [
    "best_predictions"
   ]
  },
  {
   "cell_type": "code",
   "execution_count": null,
   "id": "b0283513",
   "metadata": {},
   "outputs": [],
   "source": [
    "worst_predictions"
   ]
  },
  {
   "cell_type": "markdown",
   "id": "8d81fbbb",
   "metadata": {},
   "source": [
    "Here rui is the actual user rating while est is the value predicted by our model."
   ]
  },
  {
   "cell_type": "markdown",
   "id": "e47014a2",
   "metadata": {},
   "source": [
    "That's it! We build a fashion apparel recommender system using the Surprise library. You can perform hyperparameters tuning and Cross-validation with Surprise to get more accurate predictions. You can find the official Surprise documentation [here](https://surprise.readthedocs.io/en/stable/index.html).\n",
    "I love your feedback, please let me know what you think."
   ]
  },
  {
   "cell_type": "code",
   "execution_count": null,
   "id": "d1695757",
   "metadata": {},
   "outputs": [],
   "source": []
  }
 ],
 "metadata": {
  "kernelspec": {
   "display_name": "Python 3",
   "language": "python",
   "name": "python3"
  },
  "language_info": {
   "codemirror_mode": {
    "name": "ipython",
    "version": 3
   },
   "file_extension": ".py",
   "mimetype": "text/x-python",
   "name": "python",
   "nbconvert_exporter": "python",
   "pygments_lexer": "ipython3",
   "version": "3.6.15"
  }
 },
 "nbformat": 4,
 "nbformat_minor": 5
}
